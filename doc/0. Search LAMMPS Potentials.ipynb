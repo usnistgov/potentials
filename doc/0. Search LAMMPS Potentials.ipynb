{
 "cells": [
  {
   "cell_type": "markdown",
   "metadata": {},
   "source": [
    "# Search LAMMPS Potentials\n",
    "\n",
    "This Jupyter Notebook allows for a quick search of the database to access the metadata records for LAMMPS potentials.  For a selected potential, you will be able to\n",
    "\n",
    "1. Download the associated parameter files (if available).\n",
    "2. See what LAMMPS command lines should be used."
   ]
  },
  {
   "cell_type": "markdown",
   "metadata": {},
   "source": [
    "## Import potentials package and load records"
   ]
  },
  {
   "cell_type": "markdown",
   "metadata": {},
   "source": [
    "This cell\n",
    "\n",
    "- imports potentials if it is installed\n",
    "- uses pip to install potentials if needed.\n",
    "\n",
    "__NOTE__ If the cell installs potentials using pip, the Notebook needs to be restarted and the cell executed again."
   ]
  },
  {
   "cell_type": "code",
   "execution_count": 1,
   "metadata": {},
   "outputs": [],
   "source": [
    "try:\n",
    "    # Check if potentials has been installed\n",
    "    import potentials\n",
    "except:\n",
    "    # Install if need be and print message\n",
    "    !pip install potentials\n",
    "    print('!!!!! RESTART NOTEBOOK KERNEL TO USE POTENTIALS !!!!!')"
   ]
  },
  {
   "cell_type": "markdown",
   "metadata": {},
   "source": [
    "This cell initializes a Database object and loads LAMMPS potentials\n",
    "\n",
    "Options:\n",
    "- remote - Indicates if records are searched from potentials.nist.gov\n",
    "- local - Indicates if records are searched from a local directory\n",
    "- verbose - Indicates if extra statements are printed\n",
    "- pot_dir_style - Specifies the file path option for parameter files.  Affects where the generated LAMMPS code says the files should be and where the files will be downloaded to. Options are:\n",
    "    - \"working\", where files are in the current working directory.\n",
    "    - \"id\", where files are in a subdirectory of the current working directory named for the LAMMPS potential's id.  This avoids any name conflicts if multiple potentials are used.\n",
    "    - \"local\", where files are in the local database directory.  With this option, name conflicts are avoided and the parameter files are archived for use with later simulations."
   ]
  },
  {
   "cell_type": "code",
   "execution_count": 2,
   "metadata": {},
   "outputs": [
    {
     "name": "stdout",
     "output_type": "stream",
     "text": [
      "Found 519 matching potential_LAMMPS records in local library\n",
      "Found 450 matching potential_LAMMPS_KIM records in local library\n",
      "Built 561 lammps potentials for KIM models\n"
     ]
    }
   ],
   "source": [
    "potdb = potentials.Database(local=False, remote=True)\n",
    "entries, entries_df = potdb.get_lammps_potentials(pot_dir_style='id', verbose=True, return_df=True)"
   ]
  },
  {
   "cell_type": "markdown",
   "metadata": {},
   "source": [
    "## Widget search\n",
    "\n",
    "This cell generates a widget that allows for exploring the loaded LAMMPS potentials by element(s), pair style and id.  Passing in an empty dictionary allows for the selected potential to be accessed below.\n",
    "\n",
    "Clicking on \"Copy files\" will copy the parameter files for the currently selected potential either from the local copy of the database or by downloading the files from potentials.nist.gov as needed."
   ]
  },
  {
   "cell_type": "code",
   "execution_count": 3,
   "metadata": {},
   "outputs": [
    {
     "data": {
      "text/html": [
       "<h1>Select a LAMMPS potential</h1></br>"
      ],
      "text/plain": [
       "<IPython.core.display.HTML object>"
      ]
     },
     "metadata": {},
     "output_type": "display_data"
    },
    {
     "name": "stdout",
     "output_type": "stream",
     "text": [
      "Use the dropdown boxes to parse and select a potential. If you wish\n",
      "to copy/download the parameter files to the current working directory\n",
      "then click \"Copy Files\" after selection.\n"
     ]
    },
    {
     "data": {
      "application/vnd.jupyter.widget-view+json": {
       "model_id": "2c0a044c54a44a13ae8a2295a99dd75f",
       "version_major": 2,
       "version_minor": 0
      },
      "text/plain": [
       "Output()"
      ]
     },
     "metadata": {},
     "output_type": "display_data"
    },
    {
     "data": {
      "application/vnd.jupyter.widget-view+json": {
       "model_id": "82c64df104e64ffa82be643d84e9bce5",
       "version_major": 2,
       "version_minor": 0
      },
      "text/plain": [
       "Dropdown(description='Element1:', options=('', 'Ac', 'Ag', 'Al', 'Am', 'Ar', 'As', 'At', 'Au', 'B', 'Ba', 'Be'…"
      ]
     },
     "metadata": {},
     "output_type": "display_data"
    },
    {
     "data": {
      "application/vnd.jupyter.widget-view+json": {
       "model_id": "6e2c5ce81dfe4874a4210d4175eeca1d",
       "version_major": 2,
       "version_minor": 0
      },
      "text/plain": [
       "Dropdown(description='Element2:', options=('', 'Ac', 'Ag', 'Al', 'Am', 'Ar', 'As', 'At', 'Au', 'B', 'Ba', 'Be'…"
      ]
     },
     "metadata": {},
     "output_type": "display_data"
    },
    {
     "data": {
      "application/vnd.jupyter.widget-view+json": {
       "model_id": "f6d2e69512a74db0a62ed8e125351ff5",
       "version_major": 2,
       "version_minor": 0
      },
      "text/plain": [
       "Dropdown(description='Element3:', options=('', 'Ac', 'Ag', 'Al', 'Am', 'Ar', 'As', 'At', 'Au', 'B', 'Ba', 'Be'…"
      ]
     },
     "metadata": {},
     "output_type": "display_data"
    },
    {
     "data": {
      "application/vnd.jupyter.widget-view+json": {
       "model_id": "17f8fc9df52f4ef9943c1ec5688f1e5a",
       "version_major": 2,
       "version_minor": 0
      },
      "text/plain": [
       "Dropdown(description='Pair Style:', options=('', 'adp', 'aenet', 'agni', 'bop', 'comb3', 'eam', 'eam/alloy', '…"
      ]
     },
     "metadata": {},
     "output_type": "display_data"
    },
    {
     "data": {
      "application/vnd.jupyter.widget-view+json": {
       "model_id": "83ef80f62c184d58bd42a7370ee704e1",
       "version_major": 2,
       "version_minor": 0
      },
      "text/plain": [
       "Dropdown(description='Potential:', options=('1985--Foiles-S-M--Ni-Cu--LAMMPS--ipr1', '1985--Stillinger-F-H--Si…"
      ]
     },
     "metadata": {},
     "output_type": "display_data"
    },
    {
     "data": {
      "application/vnd.jupyter.widget-view+json": {
       "model_id": "53be29e3c63d4081a56cd75c1e5b4ccf",
       "version_major": 2,
       "version_minor": 0
      },
      "text/plain": [
       "Button(description='Copy Files', style=ButtonStyle())"
      ]
     },
     "metadata": {},
     "output_type": "display_data"
    },
    {
     "data": {
      "application/vnd.jupyter.widget-view+json": {
       "model_id": "ff3daba572de41ff8810b545deb26b99",
       "version_major": 2,
       "version_minor": 0
      },
      "text/plain": [
       "Output()"
      ]
     },
     "metadata": {},
     "output_type": "display_data"
    }
   ],
   "source": [
    "results = {}\n",
    "potdb.widget_lammps_potential(lammps_potentials=entries, lammps_potentials_df=entries_df, results=results)"
   ]
  },
  {
   "cell_type": "markdown",
   "metadata": {},
   "source": [
    "## Get the selected PotentialLAMMPS object"
   ]
  },
  {
   "cell_type": "code",
   "execution_count": 4,
   "metadata": {},
   "outputs": [
    {
     "name": "stdout",
     "output_type": "stream",
     "text": [
      "1985--Foiles-S-M--Ni-Cu--LAMMPS--ipr1\n",
      "All symbols used by the potential:\n",
      "['Cu', 'Ni']\n"
     ]
    }
   ],
   "source": [
    "lmppot = results['lammps_potential']\n",
    "print(lmppot.id)\n",
    "print('All symbols used by the potential:')\n",
    "print(lmppot.symbols)"
   ]
  },
  {
   "cell_type": "markdown",
   "metadata": {},
   "source": [
    "Print LAMMPS command lines for all symbols with comments"
   ]
  },
  {
   "cell_type": "code",
   "execution_count": 5,
   "metadata": {},
   "outputs": [
    {
     "name": "stdout",
     "output_type": "stream",
     "text": [
      "print \"Potential 1985--Foiles-S-M--Ni-Cu--LAMMPS--ipr1 listed in the NIST Interatomic Potentials Repository:\"\n",
      "print \"https://www.ctcms.nist.gov/potentials/entry/1985--Foiles-S-M--Ni-Cu/1985--Foiles-S-M--Ni-Cu--LAMMPS--ipr1.html\"\n",
      "print \"Publication(s) related to the potential:\"\n",
      "print \"https://doi.org/10.1103/physrevb.32.7685\"\n",
      "print \"Parameter file(s) can be downloaded at:\"\n",
      "print \"https://www.ctcms.nist.gov/potentials/Download/1985--Foiles-S-M--Ni-Cu/1/Cu_smf7.eam\"\n",
      "print \"https://www.ctcms.nist.gov/potentials/Download/1985--Foiles-S-M--Ni-Cu/1/Ni_smf7.eam\"\n",
      "\n",
      "pair_style eam \n",
      "pair_coeff 1 1 1985--Foiles-S-M--Ni-Cu--LAMMPS--ipr1/Cu_smf7.eam\n",
      "pair_coeff 2 2 1985--Foiles-S-M--Ni-Cu--LAMMPS--ipr1/Ni_smf7.eam\n",
      "\n",
      "mass 1 63.55\n",
      "mass 2 58.71\n",
      "\n",
      "\n"
     ]
    }
   ],
   "source": [
    "print(lmppot.pair_info())"
   ]
  },
  {
   "cell_type": "markdown",
   "metadata": {},
   "source": [
    "Print LAMMPS command lines for only the first symbol and no comments"
   ]
  },
  {
   "cell_type": "code",
   "execution_count": 6,
   "metadata": {},
   "outputs": [
    {
     "name": "stdout",
     "output_type": "stream",
     "text": [
      "pair_style eam \n",
      "pair_coeff 1 1 1985--Foiles-S-M--Ni-Cu--LAMMPS--ipr1/Cu_smf7.eam\n",
      "\n",
      "mass 1 63.55\n",
      "\n",
      "\n"
     ]
    }
   ],
   "source": [
    "print(lmppot.pair_info(symbols=lmppot.symbols[0], comments=False))"
   ]
  },
  {
   "cell_type": "markdown",
   "metadata": {},
   "source": [
    "  "
   ]
  }
 ],
 "metadata": {
  "kernelspec": {
   "display_name": "python",
   "language": "python",
   "name": "python"
  },
  "language_info": {
   "codemirror_mode": {
    "name": "ipython",
    "version": 3
   },
   "file_extension": ".py",
   "mimetype": "text/x-python",
   "name": "python",
   "nbconvert_exporter": "python",
   "pygments_lexer": "ipython3",
   "version": "3.11.11"
  }
 },
 "nbformat": 4,
 "nbformat_minor": 4
}
