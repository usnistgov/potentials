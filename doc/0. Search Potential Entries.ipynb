{
 "cells": [
  {
   "cell_type": "markdown",
   "metadata": {},
   "source": [
    "# Search Potential Entries\n",
    "\n",
    "This Jupyter Notebook allows for a quick search of the database to display citation information and all known implementations for an interatomic potential."
   ]
  },
  {
   "cell_type": "markdown",
   "metadata": {},
   "source": [
    "## Import potentials package and load records\n",
    "\n",
    "This cell\n",
    "\n",
    "- imports potentials if it is installed\n",
    "- uses pip to install potentials if needed.\n",
    "\n",
    "__NOTE__ If the cell installs potentials using pip, the Notebook needs to be restarted and the cell executed again."
   ]
  },
  {
   "cell_type": "code",
   "execution_count": 1,
   "metadata": {},
   "outputs": [],
   "source": [
    "try:\n",
    "    # Check if potentials has been installed\n",
    "    import potentials\n",
    "except:\n",
    "    # Install if need be and print message\n",
    "    !pip install potentials\n",
    "    print('!!!!! RESTART NOTEBOOK KERNEL TO USE POTENTIALS !!!!!')"
   ]
  },
  {
   "cell_type": "markdown",
   "metadata": {},
   "source": [
    "This cell initializes a Database object and loads potential listings.\n",
    "\n",
    "Options:\n",
    "- remote - Indicates if records are searched from potentials.nist.gov\n",
    "- local - Indicates if records are searched from a local directory\n",
    "- verbose - Indicates if extra statements are printed"
   ]
  },
  {
   "cell_type": "markdown",
   "metadata": {},
   "source": [
    "## Widget search\n",
    "\n",
    "This cell generates a widget that allows for exploring the loaded potentials by element(s), year, author and id.  The selected content will be rendered as HTML below."
   ]
  },
  {
   "cell_type": "code",
   "execution_count": 2,
   "metadata": {},
   "outputs": [
    {
     "name": "stdout",
     "output_type": "stream",
     "text": [
      "Found 705 matching Potential records in local library\n"
     ]
    }
   ],
   "source": [
    "potdb = potentials.Database(local=False, remote=True)\n",
    "entries, entries_df = potdb.get_potentials(verbose=True, return_df=True, refresh_cache=True)"
   ]
  },
  {
   "cell_type": "code",
   "execution_count": 4,
   "metadata": {},
   "outputs": [
    {
     "data": {
      "text/html": [
       "<h1>Search potential listings</h1></br>"
      ],
      "text/plain": [
       "<IPython.core.display.HTML object>"
      ]
     },
     "metadata": {},
     "output_type": "display_data"
    },
    {
     "data": {
      "text/html": [
       "<div xmlns=\"http://www.w3.org/TR/xhtml1/strict\"><script src=\"https://www.ctcms.nist.gov/potentials/site/showFiles.js\">//</script><div class=\"panel panel-default\"><div class=\"panel-heading\"><h3 class=\"panel-title\">1958--Bernardes-N--Ar</h3></div><div class=\"panel-body\"><div class=\"citation\"><b>Citation: </b>N. Bernardes (1958), \"Theory of Solid Ne, A, Kr, and Xe at 0&#176;K\", <i>Physical Review</i>, <b>112(5)</b>, 1534-1539. DOI: <a href=\"https://doi.org/10.1103/physrev.112.1534\" class=\"external\">10.1103/physrev.112.1534</a>.<br/></div><div class=\"abstract\"><b>Abstract: </b>A quantum-mechanical variational technique is applied to an Einstein model of a solid, and the heats of sublimation and equations of state of solid Ne, A, Kr, and Xe are calculated at 0&#176;K. Mie-Lennard-Jones 6-12 potentials appropriate to the gas-phase data are used throughout, and the importance of quantum-mechanical effects is discussed; in general, good agreement with experiment is obtained. From the theoretical zero-point energies equivalent Debye temperatures, &#952;, are calculated, and from the dependence of these &#952; on volume, Gr&#252;neisen constants are computed in good agreement with experiment. Theoretical compressibility curves (at 0&#176;K) are presented, and compared with the available experimental data; in the case of Ne, the only substance for which high-pressure data are available, the agreement is rather good up to 20 k atmos.</div><br/><div class=\"format\"><b>OpenKIM</b><a href=\"https://www.ctcms.nist.gov/potentials/entry/1958--Bernardes-N--Ar/MO_720819638419.html\"> (MO_720819638419)</a></div><div class=\"implementation-notes\"><a href=\"https://www.ctcms.nist.gov/potentials/entry/1958--Bernardes-N--Ar/MO_720819638419.html\"><b>See Computed Properties</b></a><br/><b>Notes: </b>Listing found at https://openkim.org.  This KIM potential is the \"low cutoff\" variation.<br/><b>Link(s): </b><div id=\"70bc5886-6004-4ef3-bf14-2a1b8e4cd564\" style=\"display:block\">KIM page <a href=\"https://openkim.org/id/LJ_Shifted_Bernardes_1958LowCutoff_Ar__MO_720819638419_004\">LJ_Shifted_Bernardes_1958LowCutoff_Ar__MO_720819638419_004</a><br/>DOI <a href=\"https://doi.org/10.25950/c86ccc59\">10.25950/c86ccc59</a><br/></div><br/></div><div class=\"format\"><b>OpenKIM</b><a href=\"https://www.ctcms.nist.gov/potentials/entry/1958--Bernardes-N--Ar/MO_126566794224.html\"> (MO_126566794224)</a></div><div class=\"implementation-notes\"><a href=\"https://www.ctcms.nist.gov/potentials/entry/1958--Bernardes-N--Ar/MO_126566794224.html\"><b>See Computed Properties</b></a><br/><b>Notes: </b>Listing found at https://openkim.org.  This KIM potential is the \"medium cutoff\" variation.<br/><b>Link(s): </b><div id=\"cc764bf5-56af-4533-978a-12955562aaa2\" style=\"display:block\">KIM page <a href=\"https://openkim.org/id/LJ_Shifted_Bernardes_1958MedCutoff_Ar__MO_126566794224_004\">LJ_Shifted_Bernardes_1958MedCutoff_Ar__MO_126566794224_004</a><br/>DOI <a href=\"https://doi.org/10.25950/9f98b989\">10.25950/9f98b989</a><br/></div><br/></div><div class=\"format\"><b>OpenKIM</b><a href=\"https://www.ctcms.nist.gov/potentials/entry/1958--Bernardes-N--Ar/MO_242741380554.html\"> (MO_242741380554)</a></div><div class=\"implementation-notes\"><a href=\"https://www.ctcms.nist.gov/potentials/entry/1958--Bernardes-N--Ar/MO_242741380554.html\"><b>See Computed Properties</b></a><br/><b>Notes: </b>Listing found at https://openkim.org.  This KIM potential is the \"high cutoff\" variation.<br/><b>Link(s): </b><div id=\"25b6d46e-2278-4b00-b169-d2fa608604f5\" style=\"display:block\">KIM page <a href=\"https://openkim.org/id/LJ_Shifted_Bernardes_1958HighCutoff_Ar__MO_242741380554_004\">LJ_Shifted_Bernardes_1958HighCutoff_Ar__MO_242741380554_004</a><br/>DOI <a href=\"https://doi.org/10.25950/7b45c99d\">10.25950/7b45c99d</a><br/></div><br/></div><div class=\"format\"><b>OpenKIM</b><a href=\"https://www.ctcms.nist.gov/potentials/entry/1958--Bernardes-N--Ar/MO_764178710049.html\"> (MO_764178710049)</a></div><div class=\"implementation-notes\"><a href=\"https://www.ctcms.nist.gov/potentials/entry/1958--Bernardes-N--Ar/MO_764178710049.html\"><b>See Computed Properties</b></a><br/><b>Notes: </b>Listing found at https://openkim.org.  This KIM potential is the \"smoothed\" variation.<br/><b>Link(s): </b><div id=\"fdc059e7-0b74-4bf1-8c0e-9b5967d37b2a\" style=\"display:block\">KIM page <a href=\"https://openkim.org/id/LJ_Smoothed_Bernardes_1958_Ar__MO_764178710049_001\">LJ_Smoothed_Bernardes_1958_Ar__MO_764178710049_001</a><br/></div><br/></div></div></div></div>"
      ],
      "text/plain": [
       "<IPython.core.display.HTML object>"
      ]
     },
     "metadata": {},
     "output_type": "display_data"
    },
    {
     "data": {
      "application/vnd.jupyter.widget-view+json": {
       "model_id": "b957febe3f7d46acb3d3f500cb7a1273",
       "version_major": 2,
       "version_minor": 0
      },
      "text/plain": [
       "Output()"
      ]
     },
     "metadata": {},
     "output_type": "display_data"
    },
    {
     "data": {
      "application/vnd.jupyter.widget-view+json": {
       "model_id": "419a6283d7fc46ca95a6abfde2e085dc",
       "version_major": 2,
       "version_minor": 0
      },
      "text/plain": [
       "Dropdown(description='Element1:', options=('', 'Ac', 'Ag', 'Al', 'Am', 'Ar', 'As', 'At', 'Au', 'B', 'Ba', 'Be'…"
      ]
     },
     "metadata": {},
     "output_type": "display_data"
    },
    {
     "data": {
      "application/vnd.jupyter.widget-view+json": {
       "model_id": "f39d724987a14510815afa879d7b0483",
       "version_major": 2,
       "version_minor": 0
      },
      "text/plain": [
       "Dropdown(description='Element2:', options=('', 'Ac', 'Ag', 'Al', 'Am', 'Ar', 'As', 'At', 'Au', 'B', 'Ba', 'Be'…"
      ]
     },
     "metadata": {},
     "output_type": "display_data"
    },
    {
     "data": {
      "application/vnd.jupyter.widget-view+json": {
       "model_id": "3af140409f2e4d92a91b31b509381486",
       "version_major": 2,
       "version_minor": 0
      },
      "text/plain": [
       "Dropdown(description='Element3:', options=('', 'Ac', 'Ag', 'Al', 'Am', 'Ar', 'As', 'At', 'Au', 'B', 'Ba', 'Be'…"
      ]
     },
     "metadata": {},
     "output_type": "display_data"
    },
    {
     "data": {
      "application/vnd.jupyter.widget-view+json": {
       "model_id": "b165d605201f43d4b926575efc640a23",
       "version_major": 2,
       "version_minor": 0
      },
      "text/plain": [
       "Dropdown(description='Year:', options=('', 1958, 1959, 1970, 1971, 1972, 1973, 1981, 1984, 1985, 1986, 1987, 1…"
      ]
     },
     "metadata": {},
     "output_type": "display_data"
    },
    {
     "data": {
      "application/vnd.jupyter.widget-view+json": {
       "model_id": "2890103bd4d74d4691642880d6775dc8",
       "version_major": 2,
       "version_minor": 0
      },
      "text/plain": [
       "Text(value='', continuous_update=False, description='Author:')"
      ]
     },
     "metadata": {},
     "output_type": "display_data"
    },
    {
     "data": {
      "application/vnd.jupyter.widget-view+json": {
       "model_id": "09e6acc113174d049b871cb40c6f2036",
       "version_major": 2,
       "version_minor": 0
      },
      "text/plain": [
       "Dropdown(description='Potential:', options=('1958--Bernardes-N--Ar', '1958--Bernardes-N--Kr', '1958--Bernardes…"
      ]
     },
     "metadata": {},
     "output_type": "display_data"
    },
    {
     "data": {
      "application/vnd.jupyter.widget-view+json": {
       "model_id": "7532a3fb8a764145869c3dd1bdcd318b",
       "version_major": 2,
       "version_minor": 0
      },
      "text/plain": [
       "Output()"
      ]
     },
     "metadata": {},
     "output_type": "display_data"
    }
   ],
   "source": [
    "potdb.widget_search_potentials(entries, entries_df)"
   ]
  },
  {
   "cell_type": "markdown",
   "metadata": {},
   "source": [
    "   "
   ]
  }
 ],
 "metadata": {
  "kernelspec": {
   "display_name": "python",
   "language": "python",
   "name": "python"
  },
  "language_info": {
   "codemirror_mode": {
    "name": "ipython",
    "version": 3
   },
   "file_extension": ".py",
   "mimetype": "text/x-python",
   "name": "python",
   "nbconvert_exporter": "python",
   "pygments_lexer": "ipython3",
   "version": "3.11.11"
  }
 },
 "nbformat": 4,
 "nbformat_minor": 4
}
